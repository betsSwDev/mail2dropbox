{
 "cells": [
  {
   "metadata": {},
   "cell_type": "markdown",
   "source": "# REQUIREMENTS:",
   "id": "a3136c5a08ed7c47"
  },
  {
   "cell_type": "code",
   "id": "initial_id",
   "metadata": {
    "collapsed": true,
    "ExecuteTime": {
     "end_time": "2025-05-08T00:51:13.043945Z",
     "start_time": "2025-05-08T00:51:13.035515Z"
    }
   },
   "source": [
    "# Cellule 1 : Paramètres utilisateurs\n",
    "\n",
    "# Remplis les informations ci-dessous\n",
    "EMAIL = \"sergealexai@gmail.com\"\n",
    "\n",
    "PASSWORD = \"fdli szqv wtqj uwyu\" # Il s'agit ici du mot de passe des applications\n",
    "\n",
    "DROPBOX_ACCESS_TOKEN = \"sl.u.AFpNEkKCnaZslvDjxlaSrrKoq6VoyJ9zChPyAF173QZ59ZrnVZvY1tcs0s7GZogF_dE4DsQbDfx4apx6j8fF_f9xU9LyVujOM-iemcU-JcLJlUzsLQzjL3wy7y4_aTwiq4jUhk2iJ3hhWv5d17ETixE6EoAg6kTL-l2fUktRsIjPaNEL3cDq_-HIJtlKsqg5vrjsQ91MUSGaRuuKzbP7W9F5Ma9SY7wJA0UNNZPW1hsGc4-GZpaYVjcPEpMzgNIqs8kCtL_xo2B2TKUirwyeBqwId4I1rK6dquxJcko-hO5ep4SEAKQ9gpVGw-t1fEK6a1nYvlPx0zxiRB7Hno1Ud_fl0dzOoeixqbiW3eSsZjjJ2IO9CzYj8h12ZmifpQKE9l2_9AKki1btGz8hTGIBo1H28CretAQulrX4EmQSsl-wDwjeg9K_1ToSywLw71aWCbTYs63-xrUXz5Y9LM6JMXsAtcGqDMZ0t_REGOyu38mg-LSHJSiPcaqsSN5VPq3vTWkEXRMMTa9yW3_GhjS66SYvbv_us7mMm9TW3KXlj1XRFhQbv4C4HqEUHEtv2vAAThOmkmE22vqxPT7JhplhFMp2ChdQNIGCP9gTMW4lVz27XfNVRI92hx6-FQyjIVdx4pirh5H6Zy-RnGwPhFI6ie0G9TBfrSKU4Ub2FU925Qcz7r1oWVllOv4tU2MdRQtu23nrbxD3u9ajOfv9cn6w7PwPp2XN_reBsxEhqrEzNfDzezN4xKzn3V3yqt70PgcLJ1zqldFcgMIVhtDOWIDLGrQqVejqs0p8Q5fT9FEcuRk8r_TiC6BpLrjd19d6LIvr-lOgPsb4G6LW1VlIwg_AsALFEvaCUFv5GMi6KoiBpM_r0O0MrgIQ68FzELoWqPYyOGVYc0jZXGZjRMCN9duaD-vYpHBegHaAY9vaTc8Jqq2nFbcarh3tuis1_Q7bbyZdwXuW1cdaEP4mM2Wgvz7AtRCs2iD-I5DuV0KYZIq_2NmNV-asNexA5D4rMeF0g0CEgNdgQKOGSdk9DWuJpyVWg0oCPi2V7z5VjK9wE7wuKsvVlPcX1-FReQhCaThYfe01wjitMNoSXjD9GjtXtkY-bXc7VgH4YYlLGvQia1AVmz4N-xCiO3m3vEy_TxtAtcEkO3zNmjR657jhDH7HaOvAgK93N2kTM1hqqDn6ZcefyXLg9FLrRDdrn2sJX3qnrbi_vrvD70ohw5x37tahnkxQVOQP3qSlg3iJHrbZEgYLBnxT_MPN4xf2_WJMIeBTEPFzpGPslzqlEZzn3XWd189EpRPCqDHZ9Q4c6jFvqgh-KHzsFrjexv-mQFRC57Uxl8U0IfMh_Y4IQ-Hs98nPHKD7jp40mHlegkdz0LiiitChz1wMSXt54awoDysSsmXsO6PnUUxvZoiIfT3KcgWKtUHl38dtiPUEwUlCXUkMb3mZfZINYQ\"\n",
    "\n",
    "DROPBOX_FOLDER = \"/Dossier1\""
   ],
   "outputs": [],
   "execution_count": 1
  },
  {
   "metadata": {},
   "cell_type": "markdown",
   "source": [
    "# Step 01:\n",
    "## Connexion vers le compte mail"
   ],
   "id": "3ce4acfeddc138a7"
  },
  {
   "metadata": {
    "ExecuteTime": {
     "end_time": "2025-05-08T00:51:27.945146Z",
     "start_time": "2025-05-08T00:51:15.860914Z"
    }
   },
   "cell_type": "code",
   "source": [
    "import imaplib\n",
    "import os\n",
    "import email\n",
    "from email.header import decode_header\n",
    "import re\n",
    "\n",
    "# Connexion au serveur IMAP\n",
    "print(\"Connexion au serveur IMAP...\")\n",
    "try:\n",
    "    imap = imaplib.IMAP4_SSL(\"imap.gmail.com\")\n",
    "    imap.login(EMAIL, PASSWORD)\n",
    "    imap.select(\"inbox\")\n",
    "    print(\"✅ Connexion réussie et boîte de réception sélectionnée.\")\n",
    "except Exception as e:\n",
    "    print(f\"❌ Échec de connexion : {e}\")\n"
   ],
   "id": "86502271ccbea22a",
   "outputs": [
    {
     "name": "stdout",
     "output_type": "stream",
     "text": [
      "Connexion au serveur IMAP...\n",
      "❌ Échec de connexion : [Errno 11001] getaddrinfo failed\n"
     ]
    }
   ],
   "execution_count": 2
  },
  {
   "metadata": {},
   "cell_type": "markdown",
   "source": [
    "# Step 02:\n",
    "## Connexion vers DropBox"
   ],
   "id": "600c5ceb11671059"
  },
  {
   "metadata": {
    "ExecuteTime": {
     "end_time": "2025-05-08T00:51:28.726063Z",
     "start_time": "2025-05-08T00:51:27.969873Z"
    }
   },
   "cell_type": "code",
   "source": [
    "import dropbox\n",
    "APP_KEY = 'ahpwm4u91q58ovc'\n",
    "APP_SECRET = 'szvfv6e0ncxnxjs'\n",
    "REFRESH_TOKEN = \"twfO_afMFdQAAAAAAAAAAaL0dnKnaHyA8x79McRLrvnidqFvEwbc7dianZ-XSKCQ\"\n",
    "\n",
    "# Connexion avec refresh token\n",
    "dbx = dropbox.Dropbox(\n",
    "    oauth2_refresh_token=REFRESH_TOKEN,\n",
    "    app_key=APP_KEY,\n",
    "    app_secret=APP_SECRET\n",
    ")\n",
    "\n"
   ],
   "id": "62284b50d5433b0",
   "outputs": [],
   "execution_count": 3
  },
  {
   "metadata": {},
   "cell_type": "markdown",
   "source": [
    "# Step 03:\n",
    "## ENVOI DES FICHIERS vers DropBox"
   ],
   "id": "7635171008ce1c27"
  },
  {
   "metadata": {
    "ExecuteTime": {
     "end_time": "2025-04-25T14:57:46.776821Z",
     "start_time": "2025-04-25T14:57:20.666231Z"
    }
   },
   "cell_type": "code",
   "source": [
    "import re\n",
    "import time\n",
    "from email.header import decode_header\n",
    "from email.utils import parseaddr, parsedate_tz, mktime_tz\n",
    "\n",
    "# 🔍 Recherche des mails non lus\n",
    "status, messages = imap.search(None, \"UNSEEN\")\n",
    "mail_ids = messages[0].split()\n",
    "\n",
    "# Dictionnaire pour suivre les expéditeurs + objets déjà vus\n",
    "seen_subjects = {}\n",
    "\n",
    "for num in mail_ids:\n",
    "    status, data = imap.fetch(num, \"(RFC822)\")\n",
    "    if status != \"OK\":\n",
    "        continue\n",
    "\n",
    "    msg = email.message_from_bytes(data[0][1])\n",
    "\n",
    "    # 📌 Décodage du sujet\n",
    "    subject, encoding = decode_header(msg[\"Subject\"])[0]\n",
    "    if isinstance(subject, bytes):\n",
    "        subject = subject.decode(encoding or \"utf-8\", errors=\"ignore\")\n",
    "    clean_subject = re.sub(r'[\\\\/*?:\"<>|]', \"_\", subject.strip() or \"Sans_Sujet\")\n",
    "\n",
    "    # ✉️ Adresse e-mail nettoyée\n",
    "    from_addr = msg.get(\"From\", \"\")\n",
    "    _, email_address = parseaddr(from_addr)\n",
    "    clean_sender = re.sub(r'[\\\\/*?:\"<>|]', \"_\", email_address or \"Inconnu\")\n",
    "\n",
    "    # ⏰ Extraire l'heure du mail\n",
    "    date_tuple = parsedate_tz(msg.get(\"Date\"))\n",
    "    if date_tuple:\n",
    "        timestamp = mktime_tz(date_tuple)\n",
    "    else:\n",
    "        timestamp = time.time()  # si la date est manquante\n",
    "\n",
    "    # 📎 Parcours des pièces jointes PDF\n",
    "    for part in msg.walk():\n",
    "        content_disposition = part.get(\"Content-Disposition\", \"\")\n",
    "        if \"attachment\" in content_disposition:\n",
    "            filename = part.get_filename()\n",
    "            if filename:\n",
    "                decoded_name, enc = decode_header(filename)[0]\n",
    "                if isinstance(decoded_name, bytes):\n",
    "                    decoded_name = decoded_name.decode(enc or \"utf-8\", errors=\"ignore\")\n",
    "\n",
    "                if decoded_name.lower().endswith(\".pdf\"):\n",
    "                    file_data = part.get_payload(decode=True)\n",
    "\n",
    "                    # 🧠 Clé basée sur l'expéditeur + objet\n",
    "                    sender_subject_key = (clean_sender, clean_subject)\n",
    "\n",
    "                    if sender_subject_key not in seen_subjects:\n",
    "                        seen_subjects[sender_subject_key] = 1\n",
    "                        final_name = decoded_name  # Pas de date/heure\n",
    "                    else:\n",
    "                        seen_subjects[sender_subject_key] += 1\n",
    "                        date_full = time.strftime(\"%Y-%m-%d_%H-%M-%S\", time.localtime(timestamp))\n",
    "                        name_part = decoded_name.rsplit('.', 1)\n",
    "                        if len(name_part) == 2:\n",
    "                            final_name = f\"{name_part[0]}_{date_full}.{name_part[1]}\"\n",
    "                        else:\n",
    "                            final_name = f\"{decoded_name}_{date_full}\"\n",
    "\n",
    "                    final_name = final_name.replace('/', '_')\n",
    "\n",
    "                    # 📁 Construction du chemin Dropbox\n",
    "                    dropbox_path = f\"/Dossier1/{clean_sender}/{clean_subject}/{final_name}\"\n",
    "\n",
    "                    try:\n",
    "                        dbx.files_upload(file_data, dropbox_path, mode=dropbox.files.WriteMode.overwrite)\n",
    "                        print(f\"✅ Fichier PDF uploadé : {dropbox_path}\")\n",
    "                        imap.store(num, '+FLAGS', '\\\\Seen')\n",
    "                    except Exception as e:\n",
    "                        print(f\"❌ Erreur d’upload Dropbox : {e}\")\n"
   ],
   "id": "8f3c75b5cb34937",
   "outputs": [
    {
     "name": "stdout",
     "output_type": "stream",
     "text": [
      "✅ Fichier PDF uploadé : /Dossier1/greesserge@gmail.com/Les dieux grecs et romains/Les dieux grecs et romains, correspondances, fonctions, pouvoirs, attributs  Odysseum.pdf\n"
     ]
    }
   ],
   "execution_count": 4
  }
 ],
 "metadata": {
  "kernelspec": {
   "display_name": "Python 3",
   "language": "python",
   "name": "python3"
  },
  "language_info": {
   "codemirror_mode": {
    "name": "ipython",
    "version": 2
   },
   "file_extension": ".py",
   "mimetype": "text/x-python",
   "name": "python",
   "nbconvert_exporter": "python",
   "pygments_lexer": "ipython2",
   "version": "2.7.6"
  }
 },
 "nbformat": 4,
 "nbformat_minor": 5
}
