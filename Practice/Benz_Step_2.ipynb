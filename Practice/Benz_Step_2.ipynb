{
 "cells": [
  {
   "metadata": {
    "ExecuteTime": {
     "end_time": "2025-05-09T15:44:36.397253Z",
     "start_time": "2025-05-09T15:44:36.371511Z"
    }
   },
   "cell_type": "code",
   "source": [
    "import pdfplumber\n",
    "import re  # Importation de l'expression régulière\n",
    "import os\n",
    "import shutil\n",
    "import stat\n",
    "\n",
    "# Dossiers à comparer\n",
    "lieferschein_folder = \"C:/Users/Mr Al/Desktop/Full/Benz/Lieferung_Benz\"\n",
    "rechnung_folder = \"C:/Users/Mr Al/Desktop/Full/Benz/Rechnung_Benz\"\n",
    "result_folder = \"C:/Users/Mr Al/Desktop/Full/Benz/Result_folder\"\n",
    "\n",
    "\n",
    "os.makedirs(result_folder, exist_ok=True)\n",
    "\n",
    "\n"
   ],
   "id": "6063559c630c0e40",
   "outputs": [],
   "execution_count": 5
  },
  {
   "metadata": {},
   "cell_type": "code",
   "outputs": [],
   "execution_count": null,
   "source": [
    "import os\n",
    "import pdfplumber\n",
    "\n",
    "# Nettoie une valeur pour ne garder que les chiffres\n",
    "def clean_value(value):\n",
    "    return ''.join(filter(str.isdigit, value)) if value else \"\"\n",
    "\n",
    "# Extrait la donnée située juste après un mot-clé comme \"Beleg-Nr.\"\n",
    "def extract_data(text, keyword):\n",
    "    for line in text.split('\\n'):\n",
    "        if keyword in line:\n",
    "            parts = line.split()\n",
    "            for i, part in enumerate(parts):\n",
    "                if keyword in part and i + 1 < len(parts):\n",
    "                    return parts[i + 1]\n",
    "    return \"\"\n",
    "\n",
    "# Extrait la Belegnummer d’un fichier PDF\n",
    "def extract_belegnummer(file_path):\n",
    "    belegnummer = \"\"\n",
    "    with pdfplumber.open(file_path) as pdf:\n",
    "        for page in pdf.pages:\n",
    "            text = page.extract_text()\n",
    "            if text and \"Beleg-Nr.\" in text:\n",
    "                belegnummer = extract_data(text, \"Beleg-Nr.\")\n",
    "                break  # on arrête dès qu’on trouve\n",
    "    return clean_value(belegnummer)\n",
    "\n",
    "# Parcourt un dossier et traite chaque fichier PDF\n",
    "def extract_belegnummer_from_folder(folder_path):\n",
    "    results = {}\n",
    "    for filename in os.listdir(folder_path):\n",
    "        if filename.lower().endswith(\".pdf\"):\n",
    "            file_path = os.path.join(folder_path, filename)\n",
    "            try:\n",
    "                belegnummer_value = extract_belegnummer(file_path)\n",
    "                results[filename] = belegnummer_value\n",
    "            except Exception as e:\n",
    "                results[filename] = f\"Erreur: {str(e)}\"\n",
    "    return results\n",
    "\n",
    "# Exemple d'utilisation\n",
    "folder = r\"C:\\Users\\Mr Al\\Desktop\\Full\\Benz\\Lieferung_Benz\"  # Change le chemin si nécessaire\n",
    "results = extract_belegnummer_from_folder(folder)\n",
    "\n",
    "# Affiche les résultats\n",
    "for filename, belegnummer in results.items():\n",
    "    print(f\"{filename}: {belegnummer}\")\n"
   ],
   "id": "a6c77878e8aff1f5"
  },
  {
   "metadata": {
    "ExecuteTime": {
     "end_time": "2025-05-09T15:44:38.311239Z",
     "start_time": "2025-05-09T15:44:38.286337Z"
    }
   },
   "cell_type": "code",
   "source": [
    "import os\n",
    "import pdfplumber\n",
    "\n",
    "# Nettoie une valeur pour ne garder que les chiffres\n",
    "def clean_value(value):\n",
    "    return ''.join(filter(str.isdigit, value)) if value else \"\"\n",
    "\n",
    "# Extrait la donnée située juste après un mot-clé comme \"Lieferschein\"\n",
    "def extract_data(text, keyword):\n",
    "    for line in text.split('\\n'):\n",
    "        if keyword in line:\n",
    "            parts = line.split()\n",
    "            for i, part in enumerate(parts):\n",
    "                if keyword in part and i + 1 < len(parts):\n",
    "                    return parts[i + 1]\n",
    "    return \"\"\n",
    "\n",
    "# Extrait le numéro de Lieferschein d’un fichier PDF\n",
    "def extract_lieferschein(file_path):\n",
    "    lieferschein = \"\"\n",
    "    with pdfplumber.open(file_path) as pdf:\n",
    "        for page in pdf.pages:\n",
    "            text = page.extract_text()\n",
    "            if text and \"Lieferschein\" in text:\n",
    "                lieferschein = extract_data(text, \"Lieferschein\")\n",
    "                break  # on arrête dès qu’on trouve\n",
    "    return clean_value(lieferschein)\n",
    "\n",
    "# Parcourt un dossier et traite chaque fichier PDF\n",
    "def extract_from_folder(folder_path):\n",
    "    results = {}\n",
    "    for filename in os.listdir(folder_path):\n",
    "        if filename.lower().endswith(\".pdf\"):\n",
    "            file_path = os.path.join(folder_path, filename)\n",
    "            try:\n",
    "                lieferschein_number = extract_lieferschein(file_path)\n",
    "                results[filename] = lieferschein_number\n",
    "            except Exception as e:\n",
    "                results[filename] = f\"Erreur: {str(e)}\"\n",
    "    return results\n",
    "\n",
    "# Exemple d'utilisation\n",
    "folder = r\"C:\\Users\\Mr Al\\Desktop\\Full\\Benz\\Lieferung_Benz\"  # Modifie ce chemin si nécessaire\n",
    "results = extract_from_folder(folder)\n",
    "\n",
    "# Affiche les résultats\n",
    "for filename, lieferschein in results.items():\n",
    "    print(f\"{filename}: {lieferschein}\")\n"
   ],
   "id": "50a6e478de1c563b",
   "outputs": [],
   "execution_count": 6
  },
  {
   "metadata": {
    "ExecuteTime": {
     "end_time": "2025-05-09T15:44:44.163333Z",
     "start_time": "2025-05-09T15:44:44.054893Z"
    }
   },
   "cell_type": "code",
   "source": "extract_lieferschein(lieferschein_folder)",
   "id": "26df6b75fb40cfd7",
   "outputs": [
    {
     "ename": "PermissionError",
     "evalue": "[Errno 13] Permission denied: 'C:/Users/Mr Al/Desktop/Full/Benz/Lieferung_Benz'",
     "output_type": "error",
     "traceback": [
      "\u001B[31m---------------------------------------------------------------------------\u001B[39m",
      "\u001B[31mPermissionError\u001B[39m                           Traceback (most recent call last)",
      "\u001B[36mCell\u001B[39m\u001B[36m \u001B[39m\u001B[32mIn[7]\u001B[39m\u001B[32m, line 1\u001B[39m\n\u001B[32m----> \u001B[39m\u001B[32m1\u001B[39m extract_lieferschein(lieferschein_folder)\n",
      "\u001B[36mCell\u001B[39m\u001B[36m \u001B[39m\u001B[32mIn[6]\u001B[39m\u001B[32m, line 6\u001B[39m, in \u001B[36mextract_lieferschein\u001B[39m\u001B[34m(file_path)\u001B[39m\n\u001B[32m      3\u001B[39m lieferschein = \u001B[33m\"\u001B[39m\u001B[33m\"\u001B[39m\n\u001B[32m      5\u001B[39m \u001B[38;5;66;03m# Ouvrir le fichier PDF avec pdfplumber\u001B[39;00m\n\u001B[32m----> \u001B[39m\u001B[32m6\u001B[39m \u001B[38;5;28;01mwith\u001B[39;00m pdfplumber.open(file_path) \u001B[38;5;28;01mas\u001B[39;00m pdf:\n\u001B[32m      7\u001B[39m     \u001B[38;5;66;03m# Parcourir chaque page\u001B[39;00m\n\u001B[32m      8\u001B[39m     \u001B[38;5;28;01mfor\u001B[39;00m page \u001B[38;5;129;01min\u001B[39;00m pdf.pages:\n\u001B[32m      9\u001B[39m         text = page.extract_text()\n",
      "\u001B[36mFile \u001B[39m\u001B[32m~\\miniconda3\\Lib\\site-packages\\pdfplumber\\pdf.py:98\u001B[39m, in \u001B[36mPDF.open\u001B[39m\u001B[34m(cls, path_or_fp, pages, laparams, password, strict_metadata, unicode_norm, repair, gs_path, repair_setting, raise_unicode_errors)\u001B[39m\n\u001B[32m     96\u001B[39m     path = \u001B[38;5;28;01mNone\u001B[39;00m\n\u001B[32m     97\u001B[39m \u001B[38;5;28;01melif\u001B[39;00m \u001B[38;5;28misinstance\u001B[39m(path_or_fp, (\u001B[38;5;28mstr\u001B[39m, pathlib.Path)):\n\u001B[32m---> \u001B[39m\u001B[32m98\u001B[39m     stream = \u001B[38;5;28mopen\u001B[39m(path_or_fp, \u001B[33m\"\u001B[39m\u001B[33mrb\u001B[39m\u001B[33m\"\u001B[39m)\n\u001B[32m     99\u001B[39m     stream_is_external = \u001B[38;5;28;01mFalse\u001B[39;00m\n\u001B[32m    100\u001B[39m     path = pathlib.Path(path_or_fp)\n",
      "\u001B[31mPermissionError\u001B[39m: [Errno 13] Permission denied: 'C:/Users/Mr Al/Desktop/Full/Benz/Lieferung_Benz'"
     ]
    }
   ],
   "execution_count": 7
  },
  {
   "metadata": {
    "ExecuteTime": {
     "end_time": "2025-05-09T15:20:20.947490Z",
     "start_time": "2025-05-09T15:20:20.927992Z"
    }
   },
   "cell_type": "code",
   "source": [
    "# Fonction pour extraire la donnée après une étiquette donnée\n",
    "def extract_data(text, label):\n",
    "    start_index = text.find(label)\n",
    "    if start_index == -1:\n",
    "        return None\n",
    "    start_index += len(label)\n",
    "    end_index = text.find(\"\\n\", start_index)\n",
    "    return text[start_index:end_index].strip()"
   ],
   "id": "ebe2126cf1c3ee6a",
   "outputs": [],
   "execution_count": 4
  },
  {
   "metadata": {
    "ExecuteTime": {
     "end_time": "2025-05-09T15:20:24.091242Z",
     "start_time": "2025-05-09T15:20:24.078644Z"
    }
   },
   "cell_type": "code",
   "source": [
    "# Fonction pour nettoyer les valeurs extraites en ne conservant que les chiffres\n",
    "def clean_value(value):\n",
    "    # Utilisation de l'expression régulière pour ne garder que les chiffres\n",
    "    if value:\n",
    "        cleaned_value = re.sub(r'\\D', '', value)  # Remplacer tout ce qui n'est pas un chiffre par \"\"\n",
    "        return cleaned_value[:9]  # Limiter à 9 chiffres pour la Belegnummer\n",
    "    return \"\"\n"
   ],
   "id": "1b2affafa5d27692",
   "outputs": [],
   "execution_count": 5
  },
  {
   "metadata": {
    "ExecuteTime": {
     "end_time": "2025-05-09T15:20:36.719300Z",
     "start_time": "2025-05-09T15:20:36.688340Z"
    }
   },
   "cell_type": "code",
   "source": [
    "# Fonction pour comparer les fichiers de deux dossiers\n",
    "def compare_and_move_files(lieferschein_folder, rechnung_folder, result_folder):\n",
    "    # Créer le dossier 'matched' s'il n'existe pas\n",
    "    matched_folder = os.path.join(result_folder, 'matched')\n",
    "    os.makedirs(matched_folder, exist_ok=True)\n",
    "\n",
    "    # Créer le dossier 'unmatched' s'il n'existe pas\n",
    "    unmatched_folder = os.path.join(result_folder, 'unmatched')\n",
    "    os.makedirs(unmatched_folder, exist_ok=True)\n",
    "\n",
    "    # Parcourir tous les fichiers dans le dossier Lieferschein\n",
    "    for lieferschein_file in os.listdir(lieferschein_folder):\n",
    "        lieferschein_path = os.path.join(lieferschein_folder, lieferschein_file)\n",
    "        \n",
    "        if not lieferschein_file.endswith('.pdf'):\n",
    "            continue\n",
    "\n",
    "        # Extraire la Belegnummer du fichier Lieferschein\n",
    "        belegnummer_lieferschein = extract_belegnummer(lieferschein_path)\n",
    "        print(f\"Belegnummer extrait du fichier {lieferschein_file}: {belegnummer_lieferschein}\")\n",
    "        \n",
    "        # Comparer avec les fichiers du dossier Rechnung\n",
    "        for rechnung_file in os.listdir(rechnung_folder):\n",
    "            rechnung_path = os.path.join(rechnung_folder, rechnung_file)\n",
    "            \n",
    "            if not rechnung_file.endswith('.pdf'):\n",
    "                continue\n",
    "\n",
    "            # Extraire la Lieferschein du fichier Rechnung\n",
    "            lieferschein_rechnung = extract_lieferschein(rechnung_path)\n",
    "            print(f\"Lieferschein extrait du fichier {rechnung_file}: {lieferschein_rechnung}\")\n",
    "            \n",
    "            # Comparaison des Belegnummer\n",
    "            if belegnummer_lieferschein == lieferschein_rechnung:\n",
    "                print(f\"Match trouvé: {lieferschein_file} - {rechnung_file}\")\n",
    "\n",
    "                # Créer un sous-dossier avec le numéro de matching\n",
    "                match_folder = os.path.join(matched_folder, belegnummer_lieferschein)\n",
    "                os.makedirs(match_folder, exist_ok=True)\n",
    "\n",
    "                # Créer les sous-dossiers \"Bon de Livraison\" et \"Facture\"\n",
    "                bon_de_livraison_folder = os.path.join(match_folder, \"Bon de Livraison\")\n",
    "                facture_folder = os.path.join(match_folder, \"Facture\")\n",
    "\n",
    "                os.makedirs(bon_de_livraison_folder, exist_ok=True)\n",
    "                os.makedirs(facture_folder, exist_ok=True)\n",
    "\n",
    "                # Déplacer les fichiers dans les sous-dossiers respectifs\n",
    "                shutil.move(lieferschein_path, os.path.join(bon_de_livraison_folder, lieferschein_file))\n",
    "                shutil.move(rechnung_path, os.path.join(facture_folder, rechnung_file))\n",
    "\n",
    "            else:\n",
    "                print(f\"No match: {lieferschein_file} - {rechnung_file}\")\n",
    "                # Déplacer les fichiers non correspondants dans le dossier 'unmatched'\n",
    "                shutil.move(lieferschein_path, os.path.join(unmatched_folder, lieferschein_file))\n",
    "                shutil.move(rechnung_path, os.path.join(unmatched_folder, rechnung_file))\n",
    "\n",
    "\n",
    "\n",
    "# Exécution de la comparaison\n",
    "compare_and_move_files(lieferschein_folder, rechnung_folder, result_folder)\n"
   ],
   "id": "6fbc5f9665a7f6bb",
   "outputs": [],
   "execution_count": 7
  }
 ],
 "metadata": {
  "kernelspec": {
   "display_name": "Python 3",
   "language": "python",
   "name": "python3"
  },
  "language_info": {
   "codemirror_mode": {
    "name": "ipython",
    "version": 2
   },
   "file_extension": ".py",
   "mimetype": "text/x-python",
   "name": "python",
   "nbconvert_exporter": "python",
   "pygments_lexer": "ipython2",
   "version": "2.7.6"
  }
 },
 "nbformat": 4,
 "nbformat_minor": 5
}
