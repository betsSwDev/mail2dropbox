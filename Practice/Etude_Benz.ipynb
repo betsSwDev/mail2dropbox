{
 "cells": [
  {
   "metadata": {
    "ExecuteTime": {
     "end_time": "2025-05-09T13:56:51.401436Z",
     "start_time": "2025-05-09T13:56:51.038824Z"
    }
   },
   "cell_type": "code",
   "source": [
    "import pdfplumber\n",
    "import re  # Importation de l'expression régulière\n",
    "import sys\n",
    "import os\n",
    "\n",
    "# Supprimer complètement les erreurs\n",
    "sys.stderr = open(os.devnull, 'w')\n",
    "\n",
    "# Fonction pour extraire la Belegnummer avec pdfplumber\n",
    "def extract_belegnummer(file_path):\n",
    "    belegnummer = \"\"\n",
    "    \n",
    "    # Ouvrir le fichier PDF avec pdfplumber\n",
    "    with pdfplumber.open(file_path) as pdf:\n",
    "        # Parcourir chaque page\n",
    "        for page in pdf.pages:\n",
    "            text = page.extract_text()\n",
    "            \n",
    "            # Recherche de la Belegnummer dans le texte extrait\n",
    "            if \"Beleg-Nr.\" in text:\n",
    "                belegnummer = extract_data(text, \"Beleg-Nr.\")\n",
    "    \n",
    "    # Filtrer la valeur pour ne garder que les chiffres\n",
    "    belegnummer = clean_value(belegnummer)\n",
    "    \n",
    "    return belegnummer\n",
    "\n",
    "# Fonction pour extraire la Lieferschein avec pdfplumber\n",
    "def extract_lieferschein(file_path):\n",
    "    lieferschein = \"\"\n",
    "    \n",
    "    # Ouvrir le fichier PDF avec pdfplumber\n",
    "    with pdfplumber.open(file_path) as pdf:\n",
    "        # Parcourir chaque page\n",
    "        for page in pdf.pages:\n",
    "            text = page.extract_text()\n",
    "            \n",
    "            # Recherche de la Lieferschein dans le texte extrait\n",
    "            if \"Lieferschein\" in text:\n",
    "                lieferschein = extract_data(text, \"Lieferschein\")\n",
    "    \n",
    "    # Filtrer la valeur pour ne garder que les chiffres\n",
    "    lieferschein = clean_value(lieferschein)\n",
    "    \n",
    "    return lieferschein\n",
    "\n",
    "# Fonction pour extraire la donnée après une étiquette donnée\n",
    "def extract_data(text, label):\n",
    "    start_index = text.find(label)\n",
    "    if start_index == -1:\n",
    "        return None\n",
    "    start_index += len(label)\n",
    "    end_index = text.find(\"\\n\", start_index)\n",
    "    return text[start_index:end_index].strip()\n",
    "\n",
    "# Fonction pour nettoyer les valeurs extraites en ne conservant que les chiffres\n",
    "def clean_value(value):\n",
    "    # Utilisation de l'expression régulière pour ne garder que les chiffres\n",
    "    if value:\n",
    "        cleaned_value = re.sub(r'\\D', '', value)  # Remplacer tout ce qui n'est pas un chiffre par \"\"\n",
    "        return cleaned_value[:9]  # Limiter à 9 chiffres pour la Belegnummer\n",
    "    return \"\"\n",
    "\n",
    "# Fonction pour afficher les résultats extraits et les comparer\n",
    "def compare_files(lieferschein_file, rechnung_file):\n",
    "    # Extraction des données des deux fichiers\n",
    "    belegnummer_lieferschein = extract_belegnummer(lieferschein_file)\n",
    "    lieferschein_rechnung = extract_lieferschein(rechnung_file)\n",
    "\n",
    "    # Affichage des résultats extraits avant la comparaison\n",
    "    print(f\"--- Résultats extraits ---\")\n",
    "    print(f\"Lieferschein Belegnummer : {belegnummer_lieferschein}\")\n",
    "    print(f\"Rechnung Lieferschein extrait : {lieferschein_rechnung}\")\n",
    "    print(\"------------------------\")\n",
    "\n",
    "    # Comparaison des Belegnummer\n",
    "    if belegnummer_lieferschein == lieferschein_rechnung:\n",
    "        print(\"Les numéros de Lieferschein correspondent.\")\n",
    "    else:\n",
    "        print(\"Les numéros de Lieferschein ne correspondent pas.\")\n",
    "\n",
    "# Remplacer par les chemins réels des fichiers\n",
    "lieferschein_file = \"C:/Users/user/Desktop/Benz/+ 2025-02-20_1305_Lieferung_0801806732_Lieferung 0801806732.PDF\"\n",
    "rechnung_file = \"C:/Users/user/Desktop/Benz/+ 2025-02-24_0706_Rechnung_0091808622_Rechnung 0091808622.PDF\"\n",
    "\n",
    "compare_files(lieferschein_file, rechnung_file)\n"
   ],
   "id": "e9c916c3c1c77212",
   "outputs": [
    {
     "name": "stdout",
     "output_type": "stream",
     "text": [
      "--- Résultats extraits ---\n",
      "Lieferschein Belegnummer : 801806732\n",
      "Rechnung Lieferschein extrait : 801806732\n",
      "------------------------\n",
      "Les numéros de Lieferschein correspondent.\n"
     ]
    }
   ],
   "execution_count": 29
  },
  {
   "metadata": {},
   "cell_type": "code",
   "outputs": [],
   "execution_count": null,
   "source": "",
   "id": "20f9491cf8a9e37a"
  }
 ],
 "metadata": {
  "kernelspec": {
   "display_name": "Python 3",
   "language": "python",
   "name": "python3"
  },
  "language_info": {
   "codemirror_mode": {
    "name": "ipython",
    "version": 2
   },
   "file_extension": ".py",
   "mimetype": "text/x-python",
   "name": "python",
   "nbconvert_exporter": "python",
   "pygments_lexer": "ipython2",
   "version": "2.7.6"
  }
 },
 "nbformat": 4,
 "nbformat_minor": 5
}
