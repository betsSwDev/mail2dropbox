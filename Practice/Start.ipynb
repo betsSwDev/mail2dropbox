{
 "cells": [
  {
   "metadata": {},
   "cell_type": "markdown",
   "source": "#📌 Session 1 : Import des modules & définition des variables",
   "id": "9093c34d12114815"
  },
  {
   "cell_type": "code",
   "id": "initial_id",
   "metadata": {
    "collapsed": true,
    "ExecuteTime": {
     "end_time": "2025-05-02T10:55:08.486351Z",
     "start_time": "2025-05-02T10:55:06.447859Z"
    }
   },
   "source": [
    "\n",
    "import imaplib\n",
    "import email\n",
    "import re\n",
    "import os\n",
    "import datetime\n",
    "from email.header import decode_header\n",
    "import dropbox\n",
    "EMAIL = \"habitategmbh@gmail.com\"\n",
    "PASSWORD = \"p e e t l b d k i q w z a g y l\"  # PAS ton mot de passe Gmail normal\n",
    "\n"
   ],
   "outputs": [],
   "execution_count": 1
  },
  {
   "metadata": {},
   "cell_type": "markdown",
   "source": "#📌 Session 2 : Connexion IMAP ",
   "id": "886c6789e829b05"
  },
  {
   "metadata": {
    "ExecuteTime": {
     "end_time": "2025-05-02T10:58:24.848321Z",
     "start_time": "2025-05-02T10:58:21.688794Z"
    }
   },
   "cell_type": "code",
   "source": [
    "try:\n",
    "    imap = imaplib.IMAP4_SSL(\"imap.gmail.com\")\n",
    "    imap.login(EMAIL, PASSWORD)\n",
    "    imap.select(\"inbox\")\n",
    "    print(\"✅ Connexion IMAP réussie\")\n",
    "except Exception as e:\n",
    "    print(f\"❌ Échec de connexion IMAP : {e}\")\n"
   ],
   "id": "d06eca66d8ce2fd6",
   "outputs": [
    {
     "name": "stdout",
     "output_type": "stream",
     "text": [
      "✅ Connexion IMAP réussie\n"
     ]
    }
   ],
   "execution_count": 2
  },
  {
   "metadata": {},
   "cell_type": "markdown",
   "source": "📌# Session 3 : Connexion Dropbox",
   "id": "c9f8995125dd387"
  },
  {
   "metadata": {
    "ExecuteTime": {
     "end_time": "2025-05-02T10:58:35.758791Z",
     "start_time": "2025-05-02T10:58:35.739493Z"
    }
   },
   "cell_type": "code",
   "source": [
    "import dropbox\n",
    "APP_KEY = 'ahpwm4u91q58ovc'\n",
    "APP_SECRET = 'szvfv6e0ncxnxjs'\n",
    "REFRESH_TOKEN = \"twfO_afMFdQAAAAAAAAAAaL0dnKnaHyA8x79McRLrvnidqFvEwbc7dianZ-XSKCQ\"\n",
    "\n",
    "# Connexion avec refresh token\n",
    "try:\n",
    " dbx = dropbox.Dropbox(\n",
    "    oauth2_refresh_token=REFRESH_TOKEN,\n",
    "    app_key=APP_KEY,\n",
    "    app_secret=APP_SECRET\n",
    " )\n",
    " print(\"✅ Connexion à Dropbox réussie\")\n",
    "except Exception as e:\n",
    " print(f\"❌ Erreur de connexion à Dropbox : {e}\")"
   ],
   "id": "bafdbc475af96d63",
   "outputs": [
    {
     "name": "stdout",
     "output_type": "stream",
     "text": [
      "✅ Connexion à Dropbox réussie\n"
     ]
    }
   ],
   "execution_count": 3
  },
  {
   "metadata": {},
   "cell_type": "markdown",
   "source": "#📌 Session 4 : Recherche des emails de 2025",
   "id": "af57dcd3d610a111"
  },
  {
   "metadata": {
    "ExecuteTime": {
     "end_time": "2025-05-02T10:58:43.796120Z",
     "start_time": "2025-05-02T10:58:43.417410Z"
    }
   },
   "cell_type": "code",
   "source": [
    "try:\n",
    "    status, messages = imap.search(None, 'SINCE', '\"01-Jan-2025\"', 'BEFORE', '\"01-Jan-2026\"')\n",
    "    mail_ids = messages[0].split()\n",
    "    print(f\"✅ {len(mail_ids)} email(s) trouvé(s) pour l’année 2025\")\n",
    "except Exception as e:\n",
    "    print(f\"❌ Erreur lors de la recherche des mails : {e}\")\n"
   ],
   "id": "8fbaf48db32affd7",
   "outputs": [
    {
     "name": "stdout",
     "output_type": "stream",
     "text": [
      "✅ 1218 email(s) trouvé(s) pour l’année 2025\n"
     ]
    }
   ],
   "execution_count": 4
  },
  {
   "metadata": {},
   "cell_type": "markdown",
   "source": "#📌 Session 5 : Filtrage et envoi dans Dropbox",
   "id": "57428ac9df429ffe"
  },
  {
   "metadata": {
    "ExecuteTime": {
     "end_time": "2025-05-02T11:58:37.993958Z",
     "start_time": "2025-05-02T10:58:55.872142Z"
    }
   },
   "cell_type": "code",
   "source": [
    "import time  # si ce n'est pas encore fait\n",
    "\n",
    "for num in mail_ids:\n",
    "    try:\n",
    "        try:\n",
    "            status, data = imap.fetch(num, \"(RFC822)\")\n",
    "        except Exception as e:\n",
    "            print(f\"🔁 Erreur de connexion : {e} → Reconnexion en cours...\")\n",
    "            try:\n",
    "                imap = imaplib.IMAP4_SSL(\"imap.gmail.com\")\n",
    "                imap.login(EMAIL, PASSWORD)\n",
    "                imap.select(\"inbox\")\n",
    "                status, data = imap.fetch(num, \"(RFC822)\")\n",
    "                print(\"✅ Reconnexion réussie\")\n",
    "            except Exception as reconnection_error:\n",
    "                print(f\"❌ Reconnexion échouée : {reconnection_error}\")\n",
    "                continue  # saute ce mail\n",
    "\n",
    "        msg = email.message_from_bytes(data[0][1])\n",
    "\n",
    "        subject, encoding = decode_header(msg[\"Subject\"])[0]\n",
    "        if isinstance(subject, bytes):\n",
    "            subject = subject.decode(encoding or \"utf-8\", errors=\"ignore\")\n",
    "\n",
    "        # Vérifier si l’e-mail est bien de l’année 2025\n",
    "        date_tuple = email.utils.parsedate_tz(msg[\"Date\"])\n",
    "        date_obj = datetime.datetime.fromtimestamp(email.utils.mktime_tz(date_tuple))\n",
    "\n",
    "        if date_obj.year == 2025 and \"Lieferung\" in subject:\n",
    "            formatted_date = date_obj.strftime(\"%Y-%m-%d_%H%M\")\n",
    "\n",
    "            # Parcourir les parties du message\n",
    "            for part in msg.walk():\n",
    "                content_disposition = part.get(\"Content-Disposition\", \"\")\n",
    "                if \"attachment\" in content_disposition:\n",
    "                    filename = part.get_filename()\n",
    "                    if filename:\n",
    "                        # Décoder le nom si besoin\n",
    "                        filename, encoding = decode_header(filename)[0]\n",
    "                        if isinstance(filename, bytes):\n",
    "                            filename = filename.decode(encoding or \"utf-8\", errors=\"ignore\")\n",
    "\n",
    "                        if filename.lower().endswith(\".pdf\"):\n",
    "                            local_name = f\"{formatted_date}_{re.sub(r'[^\\w]+', '_', subject)}_{filename}\"\n",
    "                            dropbox_path = f\"/Dossier1/Lieferung_2025/{local_name}\"\n",
    "\n",
    "                            # Sauvegarder temporairement le fichier\n",
    "                            with open(\"temp_attachment.pdf\", \"wb\") as f:\n",
    "                                f.write(part.get_payload(decode=True))\n",
    "\n",
    "                            # Upload dans Dropbox\n",
    "                            with open(\"temp_attachment.pdf\", \"rb\") as f:\n",
    "                                dbx.files_upload(f.read(), dropbox_path, mode=dropbox.files.WriteMode.overwrite)\n",
    "\n",
    "                            print(f\"✅ PDF '{filename}' sauvegardé dans Dropbox\")\n",
    "\n",
    "        time.sleep(1)  # pause pour éviter blocage\n",
    "\n",
    "    except Exception as e:\n",
    "        print(f\"❌ Échec pour un mail : {e}\")\n"
   ],
   "id": "773584574436f15f",
   "outputs": [
    {
     "name": "stdout",
     "output_type": "stream",
     "text": [
      "✅ PDF 'Lieferung 0801790239.PDF' sauvegardé dans Dropbox\n",
      "✅ PDF 'Lieferung 0801790346.PDF' sauvegardé dans Dropbox\n",
      "✅ PDF 'Lieferung 0801790832.PDF' sauvegardé dans Dropbox\n",
      "✅ PDF 'Lieferung 0801791253.PDF' sauvegardé dans Dropbox\n",
      "✅ PDF 'Lieferung 0801791260.PDF' sauvegardé dans Dropbox\n",
      "✅ PDF 'Lieferung 0801791436.PDF' sauvegardé dans Dropbox\n",
      "✅ PDF 'Lieferung 0801791444.PDF' sauvegardé dans Dropbox\n",
      "✅ PDF 'Lieferung 0801791906.PDF' sauvegardé dans Dropbox\n",
      "✅ PDF 'Lieferung 0801793046.PDF' sauvegardé dans Dropbox\n",
      "✅ PDF 'Lieferung 0801793046.PDF' sauvegardé dans Dropbox\n",
      "✅ PDF 'Lieferung 0801793384.PDF' sauvegardé dans Dropbox\n",
      "✅ PDF 'Lieferung 0801793454.PDF' sauvegardé dans Dropbox\n",
      "✅ PDF 'Lieferung 0801794146.PDF' sauvegardé dans Dropbox\n",
      "✅ PDF 'Lieferung 0801794450.PDF' sauvegardé dans Dropbox\n",
      "✅ PDF 'Lieferung 0801794717.PDF' sauvegardé dans Dropbox\n",
      "✅ PDF 'Würth_Lieferschein_8103778812.pdf' sauvegardé dans Dropbox\n",
      "✅ PDF 'Lieferung 0801795281.PDF' sauvegardé dans Dropbox\n",
      "✅ PDF 'Lieferung 0801795903.PDF' sauvegardé dans Dropbox\n",
      "✅ PDF 'Lieferung 0801796038.PDF' sauvegardé dans Dropbox\n",
      "✅ PDF 'Lieferung 0801797328.PDF' sauvegardé dans Dropbox\n",
      "✅ PDF 'Lieferung 0801797465.PDF' sauvegardé dans Dropbox\n",
      "✅ PDF 'Lieferung 0801797614.PDF' sauvegardé dans Dropbox\n",
      "✅ PDF 'Lieferung 0801797927.PDF' sauvegardé dans Dropbox\n",
      "✅ PDF 'Lieferung 0801797945.PDF' sauvegardé dans Dropbox\n",
      "✅ PDF 'Lieferung 0801797941.PDF' sauvegardé dans Dropbox\n",
      "✅ PDF 'Lieferung 0801798039.PDF' sauvegardé dans Dropbox\n",
      "✅ PDF 'Lieferung 0084171130.PDF' sauvegardé dans Dropbox\n",
      "✅ PDF 'Würth_Lieferschein_8104350866.pdf' sauvegardé dans Dropbox\n",
      "✅ PDF 'Lieferung 0801798381.PDF' sauvegardé dans Dropbox\n",
      "✅ PDF 'Lieferung 0801798474.PDF' sauvegardé dans Dropbox\n",
      "✅ PDF 'Würth_Lieferschein_8104396799.pdf' sauvegardé dans Dropbox\n",
      "✅ PDF 'Lieferung 0801798907.PDF' sauvegardé dans Dropbox\n",
      "✅ PDF 'Lieferung 0801799054.PDF' sauvegardé dans Dropbox\n",
      "✅ PDF 'Lieferung 0801799049.PDF' sauvegardé dans Dropbox\n",
      "✅ PDF 'Lieferung 0801799090.PDF' sauvegardé dans Dropbox\n",
      "✅ PDF 'Lieferung 0801799073.PDF' sauvegardé dans Dropbox\n",
      "✅ PDF 'Lieferung 0801799114.PDF' sauvegardé dans Dropbox\n",
      "✅ PDF 'Lieferung 0801799419.PDF' sauvegardé dans Dropbox\n",
      "✅ PDF 'Lieferung 0801799896.PDF' sauvegardé dans Dropbox\n",
      "✅ PDF 'Würth_Lieferschein_8104637026.pdf' sauvegardé dans Dropbox\n",
      "✅ PDF 'Lieferung 0801801118.PDF' sauvegardé dans Dropbox\n",
      "✅ PDF 'Lieferung 0801801139.PDF' sauvegardé dans Dropbox\n",
      "✅ PDF 'Lieferung 0084171365.PDF' sauvegardé dans Dropbox\n",
      "✅ PDF 'Lieferung 0801801522.PDF' sauvegardé dans Dropbox\n",
      "✅ PDF 'Lieferung 0801801652.PDF' sauvegardé dans Dropbox\n",
      "✅ PDF 'Lieferung 0801801651.PDF' sauvegardé dans Dropbox\n",
      "✅ PDF 'Lieferung 0801801830.PDF' sauvegardé dans Dropbox\n",
      "✅ PDF 'Lieferung 0801801827.PDF' sauvegardé dans Dropbox\n",
      "✅ PDF 'Lieferung 0801801827.PDF' sauvegardé dans Dropbox\n",
      "✅ PDF 'Lieferung 0801802945.PDF' sauvegardé dans Dropbox\n",
      "✅ PDF 'Lieferung 0801802970.PDF' sauvegardé dans Dropbox\n",
      "✅ PDF 'Lieferung 0801803131.PDF' sauvegardé dans Dropbox\n",
      "✅ PDF 'Lieferung 0084171559.PDF' sauvegardé dans Dropbox\n",
      "✅ PDF 'Lieferung 0801803630.PDF' sauvegardé dans Dropbox\n",
      "✅ PDF 'Würth_Lieferschein_8105399991.pdf' sauvegardé dans Dropbox\n",
      "✅ PDF 'Lieferung 0801803972.PDF' sauvegardé dans Dropbox\n",
      "✅ PDF 'Lieferung 0801804210.PDF' sauvegardé dans Dropbox\n",
      "✅ PDF 'Lieferung 0801804234.PDF' sauvegardé dans Dropbox\n",
      "✅ PDF 'Lieferung 0801804488.PDF' sauvegardé dans Dropbox\n",
      "✅ PDF 'Lieferung 0801804666.PDF' sauvegardé dans Dropbox\n",
      "✅ PDF 'Lieferung 0801805719.PDF' sauvegardé dans Dropbox\n",
      "✅ PDF 'Lieferung 0084171810.PDF' sauvegardé dans Dropbox\n",
      "✅ PDF 'Lieferung 0801806567.PDF' sauvegardé dans Dropbox\n",
      "✅ PDF 'Lieferung 0801806548.PDF' sauvegardé dans Dropbox\n",
      "✅ PDF 'Lieferung 0084171819.PDF' sauvegardé dans Dropbox\n",
      "✅ PDF 'Lieferung 0084171829.PDF' sauvegardé dans Dropbox\n",
      "✅ PDF 'Lieferung 0801806732.PDF' sauvegardé dans Dropbox\n",
      "✅ PDF 'Lieferung 0801807043.PDF' sauvegardé dans Dropbox\n",
      "✅ PDF 'Lieferung 0801807044.PDF' sauvegardé dans Dropbox\n",
      "✅ PDF 'Lieferung 0801807050.PDF' sauvegardé dans Dropbox\n",
      "✅ PDF 'Lieferung 0801807281.PDF' sauvegardé dans Dropbox\n",
      "✅ PDF 'Lieferung 0801808680.PDF' sauvegardé dans Dropbox\n",
      "✅ PDF 'Lieferung 0801808333.PDF' sauvegardé dans Dropbox\n",
      "✅ PDF 'Lieferung 0084172070.PDF' sauvegardé dans Dropbox\n",
      "✅ PDF 'Lieferung 0801809061.PDF' sauvegardé dans Dropbox\n",
      "✅ PDF 'Lieferung 0801810322.PDF' sauvegardé dans Dropbox\n",
      "✅ PDF 'Lieferung 0801810563.PDF' sauvegardé dans Dropbox\n",
      "✅ PDF 'Würth_Lieferschein_8106626408.pdf' sauvegardé dans Dropbox\n",
      "✅ PDF 'Lieferung 0801811668.PDF' sauvegardé dans Dropbox\n",
      "✅ PDF 'Lieferung 0801812717.PDF' sauvegardé dans Dropbox\n",
      "✅ PDF 'Lieferung 0801813110.PDF' sauvegardé dans Dropbox\n",
      "✅ PDF 'Würth_Lieferschein_8107085615.pdf' sauvegardé dans Dropbox\n",
      "✅ PDF 'Lieferung 0084172410.PDF' sauvegardé dans Dropbox\n",
      "✅ PDF 'Lieferung 0801813404.PDF' sauvegardé dans Dropbox\n",
      "✅ PDF 'Lieferung 0801813404.PDF' sauvegardé dans Dropbox\n",
      "✅ PDF 'Lieferung 0801813501.PDF' sauvegardé dans Dropbox\n",
      "✅ PDF 'Lieferung 0084172446.PDF' sauvegardé dans Dropbox\n",
      "✅ PDF 'Lieferung 0801815004.PDF' sauvegardé dans Dropbox\n",
      "✅ PDF 'Lieferung 0801815003.PDF' sauvegardé dans Dropbox\n",
      "✅ PDF 'Lieferung 0801815025.PDF' sauvegardé dans Dropbox\n",
      "✅ PDF 'Lieferung 0801815518.PDF' sauvegardé dans Dropbox\n",
      "✅ PDF 'Würth_Lieferschein_8107473006.pdf' sauvegardé dans Dropbox\n",
      "✅ PDF 'Lieferung 0801816212.PDF' sauvegardé dans Dropbox\n",
      "✅ PDF 'Lieferung 0801816870.PDF' sauvegardé dans Dropbox\n",
      "✅ PDF 'Lieferung 0801816920.PDF' sauvegardé dans Dropbox\n",
      "✅ PDF 'Lieferung 0801817501.PDF' sauvegardé dans Dropbox\n",
      "✅ PDF 'Lieferung 0801818156.PDF' sauvegardé dans Dropbox\n",
      "✅ PDF 'Lieferung 0801818160.PDF' sauvegardé dans Dropbox\n",
      "✅ PDF 'Lieferung 0084172836.PDF' sauvegardé dans Dropbox\n",
      "✅ PDF 'Lieferung 0801820181.PDF' sauvegardé dans Dropbox\n",
      "✅ PDF 'Lieferung 0801820192.PDF' sauvegardé dans Dropbox\n",
      "✅ PDF 'Lieferung 0084172986.PDF' sauvegardé dans Dropbox\n",
      "✅ PDF 'Lieferung 0801820855.PDF' sauvegardé dans Dropbox\n",
      "✅ PDF 'Lieferung 0084173027.PDF' sauvegardé dans Dropbox\n",
      "✅ PDF 'Lieferung 0801822613.PDF' sauvegardé dans Dropbox\n",
      "✅ PDF 'Lieferung 0801822765.PDF' sauvegardé dans Dropbox\n",
      "✅ PDF 'Lieferung 0084173234.PDF' sauvegardé dans Dropbox\n",
      "✅ PDF 'Lieferung 0801823040.PDF' sauvegardé dans Dropbox\n",
      "✅ PDF 'Lieferung 0801823296.PDF' sauvegardé dans Dropbox\n",
      "✅ PDF 'Würth_Lieferschein_8108582918.pdf' sauvegardé dans Dropbox\n",
      "✅ PDF 'Lieferung 0084173320.PDF' sauvegardé dans Dropbox\n",
      "✅ PDF 'Lieferung 0801823870.PDF' sauvegardé dans Dropbox\n",
      "✅ PDF 'Lieferung 0801823869.PDF' sauvegardé dans Dropbox\n",
      "✅ PDF 'Lieferung 0801827357.PDF' sauvegardé dans Dropbox\n",
      "✅ PDF 'Würth_Lieferschein_8109163425.pdf' sauvegardé dans Dropbox\n",
      "✅ PDF 'Lieferung 0801827533.PDF' sauvegardé dans Dropbox\n",
      "✅ PDF 'Lieferung 0801827685.PDF' sauvegardé dans Dropbox\n",
      "✅ PDF 'Lieferung 0801828317.PDF' sauvegardé dans Dropbox\n",
      "✅ PDF 'Lieferung 0801828306.PDF' sauvegardé dans Dropbox\n",
      "✅ PDF 'Würth_Lieferschein_8109327145.pdf' sauvegardé dans Dropbox\n",
      "✅ PDF 'Lieferung 0801828658.PDF' sauvegardé dans Dropbox\n",
      "✅ PDF 'Lieferung 0801829022.PDF' sauvegardé dans Dropbox\n",
      "✅ PDF 'Lieferung 0801829715.PDF' sauvegardé dans Dropbox\n",
      "✅ PDF 'Lieferung 0801830273.PDF' sauvegardé dans Dropbox\n",
      "✅ PDF 'Lieferung 0084173935.PDF' sauvegardé dans Dropbox\n",
      "✅ PDF 'Lieferung 0084173936.PDF' sauvegardé dans Dropbox\n",
      "✅ PDF 'Lieferung 0801830746.PDF' sauvegardé dans Dropbox\n",
      "✅ PDF 'Lieferung 0801831394.PDF' sauvegardé dans Dropbox\n",
      "✅ PDF 'Lieferung 0801831525.PDF' sauvegardé dans Dropbox\n",
      "✅ PDF 'Lieferung 0801832764.PDF' sauvegardé dans Dropbox\n",
      "✅ PDF 'Lieferung 0801832765.PDF' sauvegardé dans Dropbox\n",
      "✅ PDF 'Lieferung 0801833211.PDF' sauvegardé dans Dropbox\n",
      "✅ PDF 'Lieferung 0801835174.PDF' sauvegardé dans Dropbox\n",
      "✅ PDF 'Lieferung 0801836407.PDF' sauvegardé dans Dropbox\n",
      "✅ PDF 'Lieferung 0801836795.PDF' sauvegardé dans Dropbox\n",
      "✅ PDF 'Würth_Lieferschein_8110645316.pdf' sauvegardé dans Dropbox\n",
      "✅ PDF 'Lieferung 0801838024.PDF' sauvegardé dans Dropbox\n",
      "✅ PDF 'Lieferung 0801839680.PDF' sauvegardé dans Dropbox\n",
      "✅ PDF 'Lieferung 0801840326.PDF' sauvegardé dans Dropbox\n",
      "✅ PDF 'Lieferung 0801840797.PDF' sauvegardé dans Dropbox\n",
      "✅ PDF 'Würth_Lieferschein_8111191046.pdf' sauvegardé dans Dropbox\n",
      "✅ PDF 'Lieferung 0801843435.PDF' sauvegardé dans Dropbox\n",
      "✅ PDF 'Lieferung 0801843441.PDF' sauvegardé dans Dropbox\n",
      "✅ PDF 'Lieferung 0801843446.PDF' sauvegardé dans Dropbox\n",
      "✅ PDF 'Lieferung 0801843413.PDF' sauvegardé dans Dropbox\n",
      "✅ PDF 'Lieferung 0801844020.PDF' sauvegardé dans Dropbox\n",
      "✅ PDF 'Lieferung 0801844859.PDF' sauvegardé dans Dropbox\n",
      "✅ PDF 'Lieferung 0801845201.PDF' sauvegardé dans Dropbox\n",
      "✅ PDF 'Lieferung 0801846731.PDF' sauvegardé dans Dropbox\n",
      "✅ PDF 'Lieferung 0801846800.PDF' sauvegardé dans Dropbox\n",
      "✅ PDF 'Lieferung 0801847007.PDF' sauvegardé dans Dropbox\n",
      "✅ PDF 'Lieferung 0801849136.PDF' sauvegardé dans Dropbox\n",
      "✅ PDF 'Lieferung 0801851245.PDF' sauvegardé dans Dropbox\n",
      "✅ PDF 'Lieferung 0801851529.PDF' sauvegardé dans Dropbox\n",
      "✅ PDF 'Lieferung 0801851514.PDF' sauvegardé dans Dropbox\n",
      "✅ PDF 'Lieferung 0801853041.PDF' sauvegardé dans Dropbox\n",
      "✅ PDF 'Würth_Lieferschein_8113142680.pdf' sauvegardé dans Dropbox\n",
      "✅ PDF 'Lieferung 0801855559.PDF' sauvegardé dans Dropbox\n",
      "✅ PDF 'Lieferung 0801855572.PDF' sauvegardé dans Dropbox\n",
      "✅ PDF 'Lieferung 0801856423.PDF' sauvegardé dans Dropbox\n",
      "✅ PDF 'Würth_Lieferschein_8113316799.pdf' sauvegardé dans Dropbox\n",
      "✅ PDF 'Lieferung 0084176102.PDF' sauvegardé dans Dropbox\n",
      "✅ PDF 'Würth_Lieferschein_8113506492.pdf' sauvegardé dans Dropbox\n"
     ]
    }
   ],
   "execution_count": 5
  },
  {
   "metadata": {
    "jupyter": {
     "is_executing": true
    },
    "ExecuteTime": {
     "start_time": "2025-05-02T12:08:57.583064Z"
    }
   },
   "cell_type": "code",
   "source": [
    "import time  # si ce n'est pas encore fait\n",
    "\n",
    "for num in mail_ids:\n",
    "    try:\n",
    "        try:\n",
    "            status, data = imap.fetch(num, \"(RFC822)\")\n",
    "        except Exception as e:\n",
    "            print(f\"🔁 Erreur de connexion : {e} → Reconnexion en cours...\")\n",
    "            try:\n",
    "                imap = imaplib.IMAP4_SSL(\"imap.gmail.com\")\n",
    "                imap.login(EMAIL, PASSWORD)\n",
    "                imap.select(\"inbox\")\n",
    "                status, data = imap.fetch(num, \"(RFC822)\")\n",
    "                print(\"✅ Reconnexion réussie\")\n",
    "            except Exception as reconnection_error:\n",
    "                print(f\"❌ Reconnexion échouée : {reconnection_error}\")\n",
    "                continue  # saute ce mail\n",
    "\n",
    "        msg = email.message_from_bytes(data[0][1])\n",
    "\n",
    "        subject, encoding = decode_header(msg[\"Subject\"])[0]\n",
    "        if isinstance(subject, bytes):\n",
    "            subject = subject.decode(encoding or \"utf-8\", errors=\"ignore\")\n",
    "\n",
    "        # Vérifier si l’e-mail est bien de l’année 2025\n",
    "        date_tuple = email.utils.parsedate_tz(msg[\"Date\"])\n",
    "        date_obj = datetime.datetime.fromtimestamp(email.utils.mktime_tz(date_tuple))\n",
    "\n",
    "        if date_obj.year == 2025 and \"Rechnung\" in subject:\n",
    "            formatted_date = date_obj.strftime(\"%Y-%m-%d_%H%M\")\n",
    "\n",
    "            # Parcourir les parties du message\n",
    "            for part in msg.walk():\n",
    "                content_disposition = part.get(\"Content-Disposition\", \"\")\n",
    "                if \"attachment\" in content_disposition:\n",
    "                    filename = part.get_filename()\n",
    "                    if filename:\n",
    "                        # Décoder le nom si besoin\n",
    "                        filename, encoding = decode_header(filename)[0]\n",
    "                        if isinstance(filename, bytes):\n",
    "                            filename = filename.decode(encoding or \"utf-8\", errors=\"ignore\")\n",
    "\n",
    "                        if filename.lower().endswith(\".pdf\"):\n",
    "                            local_name = f\"{formatted_date}_{re.sub(r'[^\\w]+', '_', subject)}_{filename}\"\n",
    "                            dropbox_path = f\"/Dossier1/Rechnung_2025/{local_name}\"\n",
    "\n",
    "                            # Sauvegarder temporairement le fichier\n",
    "                            with open(\"temp_attachment.pdf\", \"wb\") as f:\n",
    "                                f.write(part.get_payload(decode=True))\n",
    "\n",
    "                            # Upload dans Dropbox\n",
    "                            with open(\"temp_attachment.pdf\", \"rb\") as f:\n",
    "                                dbx.files_upload(f.read(), dropbox_path, mode=dropbox.files.WriteMode.overwrite)\n",
    "\n",
    "                            print(f\"✅ PDF '{filename}' sauvegardé dans Dropbox\")\n",
    "\n",
    "        time.sleep(1)  # pause pour éviter blocage\n",
    "\n",
    "    except Exception as e:\n",
    "        print(f\"❌ Échec pour un mail : {e}\")\n"
   ],
   "id": "7599888cfd136022",
   "outputs": [
    {
     "name": "stdout",
     "output_type": "stream",
     "text": [
      "🔁 Erreur de connexion : command: FETCH => unexpected response: b'MDAwMDwveG1wRzpibGFjaz4KICAgICAgICAgICAgICAg' → Reconnexion en cours...\n",
      "✅ Reconnexion réussie\n",
      "✅ PDF 'Rechnung 0091781407.PDF' sauvegardé dans Dropbox\n"
     ]
    }
   ],
   "execution_count": null
  }
 ],
 "metadata": {
  "kernelspec": {
   "display_name": "Python 3",
   "language": "python",
   "name": "python3"
  },
  "language_info": {
   "codemirror_mode": {
    "name": "ipython",
    "version": 2
   },
   "file_extension": ".py",
   "mimetype": "text/x-python",
   "name": "python",
   "nbconvert_exporter": "python",
   "pygments_lexer": "ipython2",
   "version": "2.7.6"
  }
 },
 "nbformat": 4,
 "nbformat_minor": 5
}
