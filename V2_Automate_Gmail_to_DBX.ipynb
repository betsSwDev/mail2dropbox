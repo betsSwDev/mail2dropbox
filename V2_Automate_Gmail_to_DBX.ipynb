{
 "cells": [
  {
   "metadata": {},
   "cell_type": "markdown",
   "source": "# REQUIREMENTS:",
   "id": "28c393b1bfebee14"
  },
  {
   "metadata": {},
   "cell_type": "code",
   "source": [
    "# Cellule 1 : Paramètres utilisateurs\n",
    "\n",
    "# Remplis les informations ci-dessous\n",
    "EMAIL = \"sergealexai@gmail.com\"\n",
    "\n",
    "PASSWORD = \"fdli szqv wtqj uwyu\" # Il s'agit ici du mot de passe des applications\n",
    "\n",
    "DROPBOX_ACCESS_TOKEN = \"sl.u.AFpNEkKCnaZslvDjxlaSrrKoq6VoyJ9zChPyAF173QZ59ZrnVZvY1tcs0s7GZogF_dE4DsQbDfx4apx6j8fF_f9xU9LyVujOM-iemcU-JcLJlUzsLQzjL3wy7y4_aTwiq4jUhk2iJ3hhWv5d17ETixE6EoAg6kTL-l2fUktRsIjPaNEL3cDq_-HIJtlKsqg5vrjsQ91MUSGaRuuKzbP7W9F5Ma9SY7wJA0UNNZPW1hsGc4-GZpaYVjcPEpMzgNIqs8kCtL_xo2B2TKUirwyeBqwId4I1rK6dquxJcko-hO5ep4SEAKQ9gpVGw-t1fEK6a1nYvlPx0zxiRB7Hno1Ud_fl0dzOoeixqbiW3eSsZjjJ2IO9CzYj8h12ZmifpQKE9l2_9AKki1btGz8hTGIBo1H28CretAQulrX4EmQSsl-wDwjeg9K_1ToSywLw71aWCbTYs63-xrUXz5Y9LM6JMXsAtcGqDMZ0t_REGOyu38mg-LSHJSiPcaqsSN5VPq3vTWkEXRMMTa9yW3_GhjS66SYvbv_us7mMm9TW3KXlj1XRFhQbv4C4HqEUHEtv2vAAThOmkmE22vqxPT7JhplhFMp2ChdQNIGCP9gTMW4lVz27XfNVRI92hx6-FQyjIVdx4pirh5H6Zy-RnGwPhFI6ie0G9TBfrSKU4Ub2FU925Qcz7r1oWVllOv4tU2MdRQtu23nrbxD3u9ajOfv9cn6w7PwPp2XN_reBsxEhqrEzNfDzezN4xKzn3V3yqt70PgcLJ1zqldFcgMIVhtDOWIDLGrQqVejqs0p8Q5fT9FEcuRk8r_TiC6BpLrjd19d6LIvr-lOgPsb4G6LW1VlIwg_AsALFEvaCUFv5GMi6KoiBpM_r0O0MrgIQ68FzELoWqPYyOGVYc0jZXGZjRMCN9duaD-vYpHBegHaAY9vaTc8Jqq2nFbcarh3tuis1_Q7bbyZdwXuW1cdaEP4mM2Wgvz7AtRCs2iD-I5DuV0KYZIq_2NmNV-asNexA5D4rMeF0g0CEgNdgQKOGSdk9DWuJpyVWg0oCPi2V7z5VjK9wE7wuKsvVlPcX1-FReQhCaThYfe01wjitMNoSXjD9GjtXtkY-bXc7VgH4YYlLGvQia1AVmz4N-xCiO3m3vEy_TxtAtcEkO3zNmjR657jhDH7HaOvAgK93N2kTM1hqqDn6ZcefyXLg9FLrRDdrn2sJX3qnrbi_vrvD70ohw5x37tahnkxQVOQP3qSlg3iJHrbZEgYLBnxT_MPN4xf2_WJMIeBTEPFzpGPslzqlEZzn3XWd189EpRPCqDHZ9Q4c6jFvqgh-KHzsFrjexv-mQFRC57Uxl8U0IfMh_Y4IQ-Hs98nPHKD7jp40mHlegkdz0LiiitChz1wMSXt54awoDysSsmXsO6PnUUxvZoiIfT3KcgWKtUHl38dtiPUEwUlCXUkMb3mZfZINYQ\"\n",
    "\n",
    "DROPBOX_FOLDER = \"/Dossier1\""
   ],
   "id": "5b504d3725ae7671",
   "outputs": [],
   "execution_count": 1
  },
  {
   "metadata": {
    "ExecuteTime": {
     "end_time": "2025-04-17T10:39:00.286458Z",
     "start_time": "2025-04-17T10:38:54.300136Z"
    }
   },
   "cell_type": "code",
   "source": [
    "import dropbox\n",
    "# Cellule 2.1 : Générer le Refresh Token via un script\n",
    "APP_KEY = 'ahpwm4u91q58ovc'\n",
    "APP_SECRET = 'szvfv6e0ncxnxjs'\n",
    "# Étape 1 – Génération du lien avec les bons scopes\n",
    "auth_flow = dropbox.DropboxOAuth2FlowNoRedirect(\n",
    "    APP_KEY,\n",
    "    APP_SECRET,\n",
    "    token_access_type='offline',\n",
    "    scope=['files.metadata.read', 'files.content.write']\n",
    ")\n",
    "\n",
    "authorize_url = auth_flow.start()\n",
    "print(\"👉 Va sur ce lien, autorise l’accès, et copie le code affiché :\")\n",
    "print(authorize_url)"
   ],
   "id": "572f38adc2431569",
   "outputs": [
    {
     "name": "stdout",
     "output_type": "stream",
     "text": [
      "👉 Va sur ce lien, autorise l’accès, et copie le code affiché :\n",
      "https://www.dropbox.com/oauth2/authorize?response_type=code&client_id=ahpwm4u91q58ovc&token_access_type=offline&scope=files.metadata.read+files.content.write\n"
     ]
    }
   ],
   "execution_count": 2
  },
  {
   "metadata": {
    "ExecuteTime": {
     "end_time": "2025-04-16T09:31:12.417195Z",
     "start_time": "2025-04-16T09:31:07.996674Z"
    }
   },
   "cell_type": "code",
   "source": [
    "# Cellule 2.2 : Utilisation du refresh_token affiché comme nouveau token permanent\n",
    "# Étape 2 – Coller ici le code affiché après l'autorisation Dropbox\n",
    "auth_code = \"SZuYBFKayEEAAAAAAAAAGFgbP32xS7uLu3uw7dPOLjM\"\n",
    "\n",
    "oauth_result = auth_flow.finish(auth_code)\n",
    "\n",
    "print(\"✅ Access Token :\", oauth_result.access_token)\n",
    "print(\"🔁 Refresh Token :\", oauth_result.refresh_token)\n",
    "print(\"🧑 Compte :\", oauth_result.account_id)"
   ],
   "id": "cf794a1335b0939",
   "outputs": [
    {
     "name": "stdout",
     "output_type": "stream",
     "text": [
      "✅ Access Token : sl.u.AFpy0par1rNiix7PQaClVn-jM9jeU5gTLGA1FQbl1IG-JOaXMLzqW0X0ZyuMCOq3RrkDgJaPuwyQBjfRVC1bYGt30U1XxV1l6NsZwXDuJNfN6ZEcX02pCFCmScl0CBUNBRuPvwm3ndENAwZQIs73-vzRu8LSn3Ow97g5ebZ4qm_2PT1sqJ87hoCMA8cnfb4GUAO5hBjCDyu3VDRa7uEGRS1kDAsEUsWPSRSD3WYCqMI_T32JXOSw7o6SAQwoHlao2Nny5rrE6boDxW918niG9Ixc3VvtIIPxTyVJfEFXEV2LCZy8xupj8pItavs3QFNVBp8F9UZUr1_ZxEjzMN2HMtgQ5T9maWlOgN9CrV6gYK2XbzkWvyjDa_toRJeem6-87b148jiKE2ycToSGD4Qu38iAfC05laahpgDqj0VpMioB_BdTu0Lo6ZFotLu0GZQ8LsU0_52PQUG-2-WFOsopZKfo5PI0Ndd6xXsNuchNjP7DoXmOW95F6OkUAIwZN37XZx_NUfOP6h1iY6xDDurbgF5jUHZib7WIN_0ItNkvdH4zw8QdWQidT383ccg2SQRTXTeYcMA_9OaRjbLUiZReYmduRimPtqxSDIXpGGNf7PuQm7eTo8r2NskA9pfCKf6em6_sQ_VFWeuDRil8IhEl6mBVIekK0CopNxC-vJOV1sIBiFtG3_EblwDp1EdGrPoOLqNYyrYOskkivAT0SOgWAB7aN_4XAiUlFgQOcWu50FZ5rkEOqbMOEL2yrPyrrUhcgPm3kpsDRtZZYzDSaiM4NNAXRIFHIT90okA5BIxTiVOVZ24gx-p7d-Dc6BfFQXMwyPNSHGRpoMloJiV_3-q3YXzi0RGDhhRYWEQsqD4lCMoURPwjPrI9AuQEALQpJOBgrFhrKf3vulzI4UGg0D7h6CPntfRhfdpQWMKEtMvoLI_ZaJsClLq6Pli7kh4dlRjP-6lQBYeA5LMpGstK_rxadSIy6Rq5WD64SF6oKxZ3N2W4lF9mnscLBcoLLfjsnOkOUCv8O9HpYMH2ByWHN8B3DNyS0tN15aQjbVTloXWPbaxSvUbozPpAKg68Qam7t5s7I6qpmzkTgTVOCPm0WIuQVKiOv_jPvvnetXUZtg2sKITZjx3zIwFYlBtEN3XXwr9FXpa2S7HIU7JP-SIB5QdJgyiM2EQXFHlX1hGjkfoV17ig7QqT_0nXCmKwqvmFwEZdCPb9iH6mwR_qu_ERtXxM9oTgI35hBKZCTDzc-J2o6_P3N85gxiLwNCGuLrjAj9WGxkAE1EBiaUxoHt8kzLkyYQttCesCMzW9eLcuaBAcDTDQws1-hkkp1lWmdVItSA5e8de2aKuVxMTK7lCsitqH7Ss7O5S7W0efkwLNB2qJf5tfdQdqnInJh8UKah-eGKHfPq0F3tge9y1ian1Olp_bH1Tq\n",
      "🔁 Refresh Token : twfO_afMFdQAAAAAAAAAAaL0dnKnaHyA8x79McRLrvnidqFvEwbc7dianZ-XSKCQ\n",
      "🧑 Compte : dbid:AABC-cNRdBmFMvPFgLPLwMXFyi8WLcKr1C0\n"
     ]
    }
   ],
   "execution_count": 59
  },
  {
   "metadata": {},
   "cell_type": "markdown",
   "source": [
    "# Step 01:\n",
    "## Connexion vers le compte mail"
   ],
   "id": "a382cfe014e9d910"
  },
  {
   "metadata": {
    "ExecuteTime": {
     "end_time": "2025-04-17T10:39:17.646207Z",
     "start_time": "2025-04-17T10:39:13.839717Z"
    }
   },
   "cell_type": "code",
   "source": [
    "import imaplib\n",
    "import os\n",
    "import email\n",
    "from email.header import decode_header\n",
    "import re\n",
    "\n",
    "# Connexion initiale\n",
    "print(\"Connexion au serveur IMAP...\")\n",
    "imap = imaplib.IMAP4_SSL(\"imap.gmail.com\")\n",
    "imap.login(EMAIL, PASSWORD)\n",
    "imap.select(\"inbox\")\n",
    "\n",
    "# Exemple : récupération du dernier email\n",
    "status, messages = imap.search(None, 'ALL')\n",
    "mail_ids = messages[0].split()\n",
    "num = mail_ids[-1]  # Assure qu'on a bien une variable 'num' définie\n",
    "\n",
    "try:\n",
    "    status, data = imap.fetch(num, \"(RFC822)\")\n",
    "except Exception as e:\n",
    "    print(f\"🔁 Connexion perdue, tentative de reconnexion... ({e})\")\n",
    "    imap = imaplib.IMAP4_SSL(\"imap.gmail.com\")\n",
    "    imap.login(EMAIL, PASSWORD)\n",
    "    imap.select(\"inbox\")\n",
    "    status, data = imap.fetch(num, \"(RFC822)\")\n"
   ],
   "id": "741af9493ac34ad8",
   "outputs": [
    {
     "name": "stdout",
     "output_type": "stream",
     "text": [
      "Connexion au serveur IMAP...\n"
     ]
    }
   ],
   "execution_count": 3
  },
  {
   "metadata": {},
   "cell_type": "markdown",
   "source": [
    "# Step 02:\n",
    "## Envoi des fichiers vers un emplacement Local (Creer un dossier pour chaque document attache (pdf) qui aura pour nom l'objet du mail + (si possible) la date)\n"
   ],
   "id": "8e76dadc4f6eefc"
  },
  {
   "metadata": {
    "ExecuteTime": {
     "end_time": "2025-04-17T10:39:29.293284Z",
     "start_time": "2025-04-17T10:39:24.588324Z"
    }
   },
   "cell_type": "code",
   "source": [
    "import base64\n",
    "import pathlib\n",
    "\n",
    "# 🔍 Recherche des emails\n",
    "status, messages = imap.search(None, \"UNSEEN\")\n",
    "mail_ids = messages[0].split()\n",
    "\n",
    "# 📁 Dossier racine\n",
    "base_folder = \"pdf_attachments\"\n",
    "os.makedirs(base_folder, exist_ok=True)\n",
    "\n",
    "# 📩 Parcours des emails\n",
    "for num in mail_ids:\n",
    "    status, data = imap.fetch(num, \"(RFC822)\")\n",
    "    if status != \"OK\":\n",
    "        continue\n",
    "\n",
    "    msg = email.message_from_bytes(data[0][1])\n",
    "\n",
    "    # 🔤 Décodage de l'objet\n",
    "    subject, encoding = decode_header(msg[\"Subject\"])[0]\n",
    "    if isinstance(subject, bytes):\n",
    "        subject = subject.decode(encoding or \"utf-8\", errors=\"ignore\")\n",
    "\n",
    "    # 🔧 Nettoyage du nom du dossier (pas de caractères interdits)\n",
    "    clean_subject = re.sub(r'[\\\\/*?:\"<>|]', \"_\", subject.strip() or \"Sans_Sujet\")\n",
    "\n",
    "    # 📁 Création du dossier par sujet\n",
    "    subject_folder = os.path.join(base_folder, clean_subject)\n",
    "    os.makedirs(subject_folder, exist_ok=True)\n",
    "\n",
    "    # 📎 Parcours des pièces jointes\n",
    "    for part in msg.walk():\n",
    "        content_disposition = part.get(\"Content-Disposition\", \"\")\n",
    "        if \"attachment\" in content_disposition:\n",
    "            filename = part.get_filename()\n",
    "            if filename:\n",
    "                decoded_name, enc = decode_header(filename)[0]\n",
    "                if isinstance(decoded_name, bytes):\n",
    "                    decoded_name = decoded_name.decode(enc or \"utf-8\", errors=\"ignore\")\n",
    "\n",
    "                # 🎯 Si c’est un fichier PDF\n",
    "                if decoded_name.lower().endswith(\".pdf\"):\n",
    "                    safe_name = decoded_name.replace(\"/\", \"_\")\n",
    "                    filepath = os.path.join(subject_folder, safe_name)\n",
    "                    with open(filepath, \"wb\") as f:\n",
    "                        f.write(part.get_payload(decode=True))\n",
    "                    print(f\"✅ PDF enregistré : {filepath}\")\n"
   ],
   "id": "8d70d26ba6d31a59",
   "outputs": [
    {
     "name": "stdout",
     "output_type": "stream",
     "text": [
      "✅ PDF enregistré : pdf_attachments\\test1\\2024-12-04 Kontakte Testphase (1).pdf\n"
     ]
    }
   ],
   "execution_count": 4
  },
  {
   "metadata": {},
   "cell_type": "markdown",
   "source": [
    "# Step 03:\n",
    "## Connexion vers DropBox"
   ],
   "id": "2a817bf45ab5663b"
  },
  {
   "metadata": {
    "ExecuteTime": {
     "end_time": "2025-04-15T10:48:56.174829Z",
     "start_time": "2025-04-15T10:48:16.898759Z"
    }
   },
   "cell_type": "code",
   "source": "!pip install dropbox\n",
   "id": "91a7ef544ce885f3",
   "outputs": [
    {
     "name": "stdout",
     "output_type": "stream",
     "text": [
      "Requirement already satisfied: dropbox in c:\\users\\brice daleu\\miniconda3\\lib\\site-packages (12.0.2)\n",
      "Requirement already satisfied: requests>=2.16.2 in c:\\users\\brice daleu\\miniconda3\\lib\\site-packages (from dropbox) (2.31.0)\n",
      "Requirement already satisfied: six>=1.12.0 in c:\\users\\brice daleu\\miniconda3\\lib\\site-packages (from dropbox) (1.16.0)\n",
      "Requirement already satisfied: stone<3.3.3,>=2 in c:\\users\\brice daleu\\miniconda3\\lib\\site-packages (from dropbox) (3.3.1)\n",
      "Requirement already satisfied: charset-normalizer<4,>=2 in c:\\users\\brice daleu\\miniconda3\\lib\\site-packages (from requests>=2.16.2->dropbox) (2.0.4)\n",
      "Requirement already satisfied: idna<4,>=2.5 in c:\\users\\brice daleu\\miniconda3\\lib\\site-packages (from requests>=2.16.2->dropbox) (3.4)\n",
      "Requirement already satisfied: urllib3<3,>=1.21.1 in c:\\users\\brice daleu\\miniconda3\\lib\\site-packages (from requests>=2.16.2->dropbox) (2.1.0)\n",
      "Requirement already satisfied: certifi>=2017.4.17 in c:\\users\\brice daleu\\miniconda3\\lib\\site-packages (from requests>=2.16.2->dropbox) (2025.1.31)\n",
      "Requirement already satisfied: ply>=3.4 in c:\\users\\brice daleu\\miniconda3\\lib\\site-packages (from stone<3.3.3,>=2->dropbox) (3.11)\n"
     ]
    }
   ],
   "execution_count": 13
  },
  {
   "metadata": {
    "ExecuteTime": {
     "end_time": "2025-04-16T09:36:47.280270Z",
     "start_time": "2025-04-16T09:36:47.270750Z"
    }
   },
   "cell_type": "code",
   "source": [
    "import dropbox\n",
    "APP_KEY = 'ahpwm4u91q58ovc'\n",
    "APP_SECRET = 'szvfv6e0ncxnxjs'\n",
    "REFRESH_TOKEN = \"twfO_afMFdQAAAAAAAAAAaL0dnKnaHyA8x79McRLrvnidqFvEwbc7dianZ-XSKCQ\"\n",
    "\n",
    "# Connexion avec refresh token\n",
    "dbx = dropbox.Dropbox(\n",
    "    oauth2_refresh_token=REFRESH_TOKEN,\n",
    "    app_key=APP_KEY,\n",
    "    app_secret=APP_SECRET\n",
    ")\n",
    "\n"
   ],
   "id": "a6a8c5bb5ff32b5c",
   "outputs": [],
   "execution_count": 60
  },
  {
   "metadata": {},
   "cell_type": "markdown",
   "source": [
    "# Step 04:\n",
    "## ENVOI DES FICHIERS vers DropBox"
   ],
   "id": "a2bdbe091943d37d"
  },
  {
   "metadata": {
    "ExecuteTime": {
     "end_time": "2025-04-16T09:40:35.937107Z",
     "start_time": "2025-04-16T09:40:26.537104Z"
    }
   },
   "cell_type": "code",
   "source": [
    "import re\n",
    "from email.header import decode_header\n",
    "\n",
    "# 🔍 Recherche des mails\n",
    "status, messages = imap.search(None, \"UNSEEN\")\n",
    "mail_ids = messages[0].split()\n",
    "\n",
    "for num in mail_ids:\n",
    "    status, data = imap.fetch(num, \"(RFC822)\")\n",
    "    if status != \"OK\":\n",
    "        continue\n",
    "\n",
    "    msg = email.message_from_bytes(data[0][1])\n",
    "\n",
    "    # 📌 Décodage du sujet\n",
    "    subject, encoding = decode_header(msg[\"Subject\"])[0]\n",
    "    if isinstance(subject, bytes):\n",
    "        subject = subject.decode(encoding or \"utf-8\", errors=\"ignore\")\n",
    "    clean_subject = re.sub(r'[\\\\/*?:\"<>|]', \"_\", subject.strip() or \"Sans_Sujet\")\n",
    "\n",
    "    # 📎 Parcours des pièces jointes\n",
    "    for part in msg.walk():\n",
    "        content_disposition = part.get(\"Content-Disposition\", \"\")\n",
    "        if \"attachment\" in content_disposition:\n",
    "            filename = part.get_filename()\n",
    "            if filename:\n",
    "                decoded_name, enc = decode_header(filename)[0]\n",
    "                if isinstance(decoded_name, bytes):\n",
    "                    decoded_name = decoded_name.decode(enc or \"utf-8\", errors=\"ignore\")\n",
    "\n",
    "                if decoded_name.lower().endswith(\".pdf\"):\n",
    "                    file_data = part.get_payload(decode=True)\n",
    "                    \n",
    "                    # 📁 Dossier dans Dropbox\n",
    "                    dropbox_path = f\"/Dossier1/{clean_subject}/{decoded_name.replace('/', '_')}\"\n",
    "                    \n",
    "                try:\n",
    "                    dbx.files_upload(file_data, dropbox_path, mode=dropbox.files.WriteMode.overwrite)\n",
    "                    print(f\"✅ Fichier PDF uploadé : {dropbox_path}\")\n",
    "                    \n",
    "                    # ✅ Marquer le mail comme lu\n",
    "                    imap.store(num, '+FLAGS', '\\\\Seen')\n",
    "                \n",
    "                except Exception as e:\n",
    "                    print(f\"❌ Erreur d’upload Dropbox : {e}\")\n"
   ],
   "id": "cb2075cf6c111385",
   "outputs": [
    {
     "name": "stdout",
     "output_type": "stream",
     "text": [
      "✅ Fichier PDF uploadé : /Dossier1/DEV/2024-12-04 Kontakte Testphase (1).pdf\n"
     ]
    }
   ],
   "execution_count": 62
  },
  {
   "metadata": {},
   "cell_type": "code",
   "outputs": [],
   "execution_count": null,
   "source": "",
   "id": "34af5f1fcf3e75b1"
  },
  {
   "metadata": {},
   "cell_type": "code",
   "outputs": [],
   "execution_count": null,
   "source": [
    "import dropbox\n",
    "# Cellule 2.1 : Générer le Refresh Token via un script\n",
    "APP_KEY = 'ahpwm4u91q58ovc'\n",
    "APP_SECRET = 'szvfv6e0ncxnxjs'\n",
    "# Étape 1 – Génération du lien avec les bons scopes\n",
    "auth_flow = dropbox.DropboxOAuth2FlowNoRedirect(\n",
    "    APP_KEY,\n",
    "    APP_SECRET,\n",
    "    token_access_type='offline',\n",
    "    scope=['files.metadata.read', 'files.content.write']\n",
    ")\n",
    "\n",
    "authorize_url = auth_flow.start()\n",
    "print(\"👉 Va sur ce lien, autorise l’accès, et copie le code affiché :\")\n",
    "print(authorize_url)"
   ],
   "id": "f76a56e86507eba1"
  },
  {
   "metadata": {},
   "cell_type": "code",
   "outputs": [],
   "execution_count": null,
   "source": "",
   "id": "db1251eee70d6eac"
  },
  {
   "metadata": {},
   "cell_type": "code",
   "outputs": [],
   "execution_count": null,
   "source": "",
   "id": "b2670013bc37d19"
  },
  {
   "metadata": {},
   "cell_type": "code",
   "outputs": [],
   "execution_count": null,
   "source": "",
   "id": "b2e5c6080d4b01a5"
  },
  {
   "metadata": {},
   "cell_type": "code",
   "outputs": [],
   "execution_count": null,
   "source": "",
   "id": "cbac94f68656107f"
  },
  {
   "metadata": {},
   "cell_type": "code",
   "outputs": [],
   "execution_count": null,
   "source": "",
   "id": "37775e7fca87808f"
  },
  {
   "metadata": {},
   "cell_type": "code",
   "outputs": [],
   "execution_count": null,
   "source": "",
   "id": "a10238b749f1173b"
  },
  {
   "metadata": {},
   "cell_type": "code",
   "outputs": [],
   "execution_count": null,
   "source": "",
   "id": "83ddd7a38148a918"
  },
  {
   "metadata": {},
   "cell_type": "code",
   "outputs": [],
   "execution_count": null,
   "source": "",
   "id": "fd855923548fbcf4"
  },
  {
   "metadata": {},
   "cell_type": "code",
   "outputs": [],
   "execution_count": null,
   "source": "",
   "id": "833c8fa8405bd98a"
  },
  {
   "metadata": {},
   "cell_type": "code",
   "outputs": [],
   "execution_count": null,
   "source": "",
   "id": "17453342dc2fe5bb"
  },
  {
   "metadata": {},
   "cell_type": "code",
   "outputs": [],
   "execution_count": null,
   "source": "",
   "id": "1f39320188681f3a"
  },
  {
   "metadata": {},
   "cell_type": "code",
   "outputs": [],
   "execution_count": null,
   "source": "",
   "id": "a05e05f2f8641a05"
  },
  {
   "metadata": {},
   "cell_type": "code",
   "outputs": [],
   "execution_count": null,
   "source": "",
   "id": "77446be93c882578"
  },
  {
   "metadata": {},
   "cell_type": "code",
   "outputs": [],
   "execution_count": null,
   "source": "",
   "id": "6d1aa21e60a7040b"
  },
  {
   "metadata": {},
   "cell_type": "code",
   "outputs": [],
   "execution_count": null,
   "source": "",
   "id": "7bd92f34a89334b5"
  },
  {
   "metadata": {},
   "cell_type": "code",
   "outputs": [],
   "execution_count": null,
   "source": "",
   "id": "100c90276616801f"
  },
  {
   "metadata": {},
   "cell_type": "code",
   "outputs": [],
   "execution_count": null,
   "source": "",
   "id": "2f554527ff899f89"
  },
  {
   "metadata": {},
   "cell_type": "code",
   "outputs": [],
   "execution_count": null,
   "source": "",
   "id": "a1ecc7f12a7d3086"
  },
  {
   "metadata": {},
   "cell_type": "code",
   "outputs": [],
   "execution_count": null,
   "source": "",
   "id": "9f2b4804a95f885b"
  },
  {
   "metadata": {},
   "cell_type": "code",
   "outputs": [],
   "execution_count": null,
   "source": "",
   "id": "78b1c975e548536"
  },
  {
   "metadata": {},
   "cell_type": "code",
   "outputs": [],
   "execution_count": null,
   "source": "",
   "id": "dee8e3d79b249c32"
  }
 ],
 "metadata": {
  "kernelspec": {
   "display_name": "Python 3",
   "language": "python",
   "name": "python3"
  },
  "language_info": {
   "codemirror_mode": {
    "name": "ipython",
    "version": 2
   },
   "file_extension": ".py",
   "mimetype": "text/x-python",
   "name": "python",
   "nbconvert_exporter": "python",
   "pygments_lexer": "ipython2",
   "version": "2.7.6"
  }
 },
 "nbformat": 4,
 "nbformat_minor": 5
}
